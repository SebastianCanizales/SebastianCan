{
  "nbformat": 4,
  "nbformat_minor": 0,
  "metadata": {
    "colab": {
      "name": "Untitled0.ipynb",
      "provenance": [],
      "collapsed_sections": [],
      "authorship_tag": "ABX9TyNk1uC1uu7JQq1sovVeG9sp",
      "include_colab_link": true
    },
    "kernelspec": {
      "name": "python3",
      "display_name": "Python 3"
    },
    "language_info": {
      "name": "python"
    }
  },
  "cells": [
    {
      "cell_type": "markdown",
      "metadata": {
        "id": "view-in-github",
        "colab_type": "text"
      },
      "source": [
        "<a href=\"https://colab.research.google.com/github/SebastianCanizales/SebastianCan/blob/main/Ej_Python_1842108.ipynb\" target=\"_parent\"><img src=\"https://colab.research.google.com/assets/colab-badge.svg\" alt=\"Open In Colab\"/></a>"
      ]
    },
    {
      "cell_type": "markdown",
      "metadata": {
        "id": "1wfhja-nHp_R"
      },
      "source": [
        "**Ejercicio 1**"
      ]
    },
    {
      "cell_type": "code",
      "metadata": {
        "colab": {
          "base_uri": "https://localhost:8080/"
        },
        "id": "8MNv60w8Xd1L",
        "outputId": "bfe5b6d0-ddb8-49a6-9fef-3ad8d9e274e5"
      },
      "source": [
        "#Realiza una variable con tu matricula y realiza una secuencia de imprimir con tu nombre y tu matricula concatenados.\n",
        "a = input(\"Ingresa tu Nombre\")\n",
        "b = 1842108\n",
        "print (a,b)"
      ],
      "execution_count": 8,
      "outputs": [
        {
          "output_type": "stream",
          "text": [
            "Ingresa tu NombreSebastian Canizales Melchor\n",
            "Sebastian Canizales Melchor 1842108\n"
          ],
          "name": "stdout"
        }
      ]
    },
    {
      "cell_type": "markdown",
      "metadata": {
        "id": "XrOYaqBSHxSO"
      },
      "source": [
        "**Ejercicio 2**"
      ]
    },
    {
      "cell_type": "code",
      "metadata": {
        "colab": {
          "base_uri": "https://localhost:8080/"
        },
        "id": "PVHxQAtdYBys",
        "outputId": "267ea27b-7fa5-401a-ab62-b65e554396d9"
      },
      "source": [
        "#Pidiendo el input del usuario pide dos números y crea una pequeña calculadora \n",
        "#con los operadores básicos de suma, resta, multiplicación, división, y exponente.\n",
        "#Utilizando el loop de while\n",
        "a = int(input(\"Introduce un numero \"))\n",
        "b = int(input(\"Introduce otro numero \"))\n",
        "i = 0\n",
        "while i == 0:\n",
        "  oper = 0\n",
        "  oper = int(input(\"1:sum,2:res,3:mult,4:div,5:exp\"))\n",
        "  if oper == 1:\n",
        "    print(a+b)\n",
        "    i = int(input(\"desea usar la calculadora otra vez 1:no 0: si \"))\n",
        "  if oper == 2:\n",
        "    print (a-b)\n",
        "    i = int(input(\"desea usar la calculadora otra vez 1:no 0: si \"))\n",
        "  if oper == 3:\n",
        "    print (a*b)\n",
        "    i = int(input(\"desea usar la calculadora otra vez 1:no 0: si \"))\n",
        "  if oper == 4:\n",
        "    if b == 0:\n",
        "      print( \"no se puede realizar\")\n",
        "    else:\n",
        "      print (a/b)\n",
        "      i = int(input(\"desea usar la calculadora otra vez 1:no 0: si \"))\n",
        "  if oper == 5:\n",
        "    print(a**b)\n",
        "    i = int(input(\"desea usar la calculadora otra vez 1:no 0: si \"))\n"
      ],
      "execution_count": 50,
      "outputs": [
        {
          "output_type": "stream",
          "text": [
            "Introduce un numero 5\n",
            "Introduce otro numero 6\n",
            "1:sum,2:res,3:mult,4:div,5:exp1\n",
            "11\n",
            "desea usar la calculadora otra vez 1:no 0: si 1\n"
          ],
          "name": "stdout"
        }
      ]
    },
    {
      "cell_type": "markdown",
      "metadata": {
        "id": "n8eWJFDgH7-S"
      },
      "source": [
        "**Ejercicio 3**"
      ]
    },
    {
      "cell_type": "code",
      "metadata": {
        "colab": {
          "base_uri": "https://localhost:8080/"
        },
        "id": "30w0gVbpandD",
        "outputId": "4a738f48-1bf3-43a9-8363-33d6c8806047"
      },
      "source": [
        "#Con loop while o for, realiza una lista de 10 numeros multiplos de 3, \n",
        "#y después realiza una función de loop que sume todos los números dentro del arreglo.\n",
        "a = []\n",
        "i = 0\n",
        "sum = 0\n",
        "while i < 10:\n",
        "  b= int(input(\"ingrese un numero\"))\n",
        "  if b%3 == 0:\n",
        "   a.append(b) \n",
        "  else:\n",
        "    a.append(b*3)\n",
        "  sum = a[i]+ sum\n",
        "  i=i+1\n",
        "print(a)\n",
        "print(sum)\n"
      ],
      "execution_count": 33,
      "outputs": [
        {
          "output_type": "stream",
          "text": [
            "ingrese un numero1\n",
            "ingrese un numero2\n",
            "ingrese un numero3\n",
            "ingrese un numero4\n",
            "ingrese un numero5\n",
            "ingrese un numero6\n",
            "ingrese un numero7\n",
            "ingrese un numero8\n",
            "ingrese un numero9\n",
            "ingrese un numero10\n",
            "[3, 6, 3, 12, 15, 6, 21, 24, 9, 30]\n",
            "129\n"
          ],
          "name": "stdout"
        }
      ]
    },
    {
      "cell_type": "markdown",
      "metadata": {
        "id": "SFlBPd7fIBiJ"
      },
      "source": [
        "**Ejercicio 4**"
      ]
    },
    {
      "cell_type": "code",
      "metadata": {
        "colab": {
          "base_uri": "https://localhost:8080/"
        },
        "id": "0y0SMrHMa8WR",
        "outputId": "ac364260-8cdc-4fa2-afa7-b90564a29971"
      },
      "source": [
        "#Con una función de if else, revisar si un número es par o es impar.\n",
        "a = int(input(\"Introduce un numero: \"))\n",
        "if a%2 == 0:\n",
        "  print(\"es par \")\n",
        "else: \n",
        "  print(\"es impar\")\n",
        "\n"
      ],
      "execution_count": 5,
      "outputs": [
        {
          "output_type": "stream",
          "text": [
            "Introduce un numero: 6\n",
            "es par \n"
          ],
          "name": "stdout"
        }
      ]
    },
    {
      "cell_type": "code",
      "metadata": {
        "colab": {
          "base_uri": "https://localhost:8080/"
        },
        "id": "xEsQFmEp75bG",
        "outputId": "a939dedf-bd0a-4b34-b486-f2c58c56f9fa"
      },
      "source": [
        "#Con una función de if else, revisar si un número es primo o no\n",
        "a = int(input(\"Introduce un numero \"))\n",
        "cont= 0\n",
        "if a> 1:\n",
        "  for i in range(2,a):\n",
        "   resto = a%i\n",
        "   if resto == 0:\n",
        "      cont +=1\n",
        "      if cont == 0:\n",
        "        print(\"es numero primo \")\n",
        "      else:\n",
        "          print(\"no es un numero primo \")\n",
        "else:\n",
        "    print(\"no es un numero primo \")"
      ],
      "execution_count": 51,
      "outputs": [
        {
          "output_type": "stream",
          "text": [
            "Introduce un numero 4\n",
            "no es un numero primo \n"
          ],
          "name": "stdout"
        }
      ]
    },
    {
      "cell_type": "markdown",
      "metadata": {
        "id": "aJgYrVtpIFsh"
      },
      "source": [
        "**Ejercicio 5**"
      ]
    },
    {
      "cell_type": "code",
      "metadata": {
        "colab": {
          "base_uri": "https://localhost:8080/"
        },
        "id": "jt0dr7S3CfPP",
        "outputId": "22215130-d135-49bc-d085-abe1d4b2f043"
      },
      "source": [
        "#Utilizando diferentes clases en python, crea una calculadora con los operadores básicos de suma, \n",
        "#resta, multiplicación, división, y exponente.\n",
        "#Funciones matemáticas en la librería de math en python\n",
        "import math\n",
        "def suma(n1,n2):\n",
        "  sum= [n1,n2]\n",
        "  print(math.fsum(sum))\n",
        "def resta(n1,n2):\n",
        "  res = n1-n2\n",
        "  print(res)\n",
        "def mult(n1,n2):\n",
        "  mul = n1*n2\n",
        "  print(mul)\n",
        "def divi(n1,n2):\n",
        "  if n2 == 0:\n",
        "    print(\"no se puede hacer la division\")\n",
        "  else:\n",
        "    div = n1/n2\n",
        "    print [div]\n",
        "def expo(n1,n2):\n",
        "  print(math.pow(n1,n2))\n",
        "i = 0\n",
        "while i == 0:\n",
        "  n1 = int(input(\"ingrese un numero\"))\n",
        "  n2 = int(input(\"ingrese un numero\"))\n",
        "  oper = 0\n",
        "  oper = int(input(\"1:sum,2:res,3:mult,4:div,5:exp\"))\n",
        "  print(\"la opcion que elegi es {}\".format(oper))\n",
        "  if oper == 1:\n",
        "    suma(n1,n2)\n",
        "    i = int(input(\"desea usar la calculadora otra vez 1:no 0: si \"))\n",
        "  if oper == 2:\n",
        "    resta(n1,n2)\n",
        "    i = int(input(\"desea usar la calculadora otra vez 1:no 0: si \"))\n",
        "  if oper == 3:\n",
        "    mult(n1,n2)\n",
        "    i = int(input(\"desea usar la calculadora otra vez 1:no 0: si \"))\n",
        "  if oper == 4:\n",
        "    divi(n1,n2)\n",
        "    i = int(input(\"desea usar la calculadora otra vez 1:no 0: si \"))\n",
        "  if oper == 5:\n",
        "    expo(n1,n2)\n",
        "    i = int(input(\"desea usar la calculadora otra vez 1:no 0: si \"))"
      ],
      "execution_count": 19,
      "outputs": [
        {
          "output_type": "stream",
          "text": [
            "ingrese un numero5\n",
            "ingrese un numero6\n",
            "1:sum,2:res,3:mult,4:div,5:exp1\n",
            "la opcion que elegi es 1\n",
            "11.0\n",
            "desea usar la calculadora otra vez 1:no 0: si 0\n",
            "ingrese un numero1\n",
            "ingrese un numero2\n",
            "1:sum,2:res,3:mult,4:div,5:exp5\n",
            "la opcion que elegi es 5\n",
            "1.0\n",
            "desea usar la calculadora otra vez 1:no 0: si 1\n"
          ],
          "name": "stdout"
        }
      ]
    },
    {
      "cell_type": "markdown",
      "metadata": {
        "id": "ujgtOfrVIKqk"
      },
      "source": [
        "**Tuplas**"
      ]
    },
    {
      "cell_type": "code",
      "metadata": {
        "colab": {
          "base_uri": "https://localhost:8080/"
        },
        "id": "ST73mgLrKZub",
        "outputId": "c9212614-5ec8-424e-9bd0-91b177dfcd74"
      },
      "source": [
        "#Crear una variable flotante, integer, boleana y compleja e imprimir el tipo de variable que es.\n",
        "a = 4\n",
        "b=4.5\n",
        "c= 3j\n",
        "d = True\n",
        "print(format(a),type(a))\n",
        "print(format(b),type(b))\n",
        "print(format(c),type(c))\n",
        "print(format(d),type(d))\n"
      ],
      "execution_count": 68,
      "outputs": [
        {
          "output_type": "stream",
          "text": [
            "4 <class 'int'>\n",
            "4.5 <class 'float'>\n",
            "3j <class 'complex'>\n",
            "True <class 'bool'>\n"
          ],
          "name": "stdout"
        }
      ]
    },
    {
      "cell_type": "code",
      "metadata": {
        "colab": {
          "base_uri": "https://localhost:8080/"
        },
        "id": "xJd-cyXEMGBw",
        "outputId": "6c14ff74-18e6-4fb9-f6d1-06dce4a2b435"
      },
      "source": [
        "#Crear una tupla con valores enteros imprimir el primer y ultimo valor.\n",
        "t1=(1,2,3,4,5,6)\n",
        "print(\"el primer valor es:\",t1[0])\n",
        "print(\"el ultimo valor es:\",t1[-1])\n"
      ],
      "execution_count": 78,
      "outputs": [
        {
          "output_type": "stream",
          "text": [
            "el primer valor es: 1\n",
            "el ultimo valor es: 6\n"
          ],
          "name": "stdout"
        }
      ]
    },
    {
      "cell_type": "code",
      "metadata": {
        "colab": {
          "base_uri": "https://localhost:8080/"
        },
        "id": "OGlF-KM8rw4f",
        "outputId": "e62a2af7-959f-4eed-e57b-d3a9fab25a40"
      },
      "source": [
        "#Añadir 3 valores de string a la tupla.\n",
        "t1 = (1,2,3)\n",
        "print(t1)\n",
        "t1 = t1.__add__((1,2,3))\n",
        "print(\"nueva tupla es \",t1)"
      ],
      "execution_count": 8,
      "outputs": [
        {
          "output_type": "stream",
          "text": [
            "(1, 2, 3)\n",
            "nueva tupla es  (1, 2, 3, 1, 2, 3)\n"
          ],
          "name": "stdout"
        }
      ]
    },
    {
      "cell_type": "code",
      "metadata": {
        "colab": {
          "base_uri": "https://localhost:8080/"
        },
        "id": "BK59H37ItBEG",
        "outputId": "15ece906-7bbb-462d-db8d-546dfac0d776"
      },
      "source": [
        "#Verificar si una variable existe dentro de la tupla\n",
        "t1 = (1,2,3,4)\n",
        "1 in t1"
      ],
      "execution_count": 12,
      "outputs": [
        {
          "output_type": "execute_result",
          "data": {
            "text/plain": [
              "True"
            ]
          },
          "metadata": {},
          "execution_count": 12
        }
      ]
    },
    {
      "cell_type": "markdown",
      "metadata": {
        "id": "MhiB5ga9IVum"
      },
      "source": [
        "**Listas**"
      ]
    },
    {
      "cell_type": "code",
      "metadata": {
        "colab": {
          "base_uri": "https://localhost:8080/"
        },
        "id": "WG1B45eov2e0",
        "outputId": "fc53bda1-46a7-4b72-d08d-b6f7c73c2271"
      },
      "source": [
        "#Crear una lista con 40 elementos aleatorios enteros.\n",
        "import random \n",
        "lista = []\n",
        "lp = []\n",
        "li = []\n",
        "for i in range(40):\n",
        "  ent = random.randint(1,10000)\n",
        "  lista.append(ent)\n",
        "print(lista)\n",
        "def LISTA(lista):\n",
        "  for i in range(len(lista)):\n",
        "    if lista[i]%2==0:\n",
        "      lp.append(lista[i]) \n",
        "    else:\n",
        "        li.append(lista[i])\n",
        "LISTA(lista)\n",
        "lli = len(li)\n",
        "llp = len(lp)\n",
        "print(\" La longitud de los numeros impares es %d\",lli)\n",
        "print(\" La longitud de los numeros impares es %d\",llp)\n",
        "li.sort()\n",
        "print(\"la lista impar de menor a mayor es \",li)\n",
        "lp.sort(reverse= True)\n",
        "print(\"la lista mayor a menor es \", lp)\n"
      ],
      "execution_count": 25,
      "outputs": [
        {
          "output_type": "stream",
          "text": [
            "[4030, 3420, 4240, 4935, 5942, 1752, 5481, 3495, 9363, 8115, 9001, 6891, 9857, 717, 6935, 3882, 4497, 703, 8358, 4878, 4989, 8557, 3088, 6795, 1726, 7007, 3466, 4449, 6763, 9225, 2708, 5647, 1291, 9563, 5608, 1099, 4972, 5717, 7879, 1407]\n",
            " La longitud de los numeros impares es %d 26\n",
            " La longitud de los numeros impares es %d 14\n",
            "la lista impar de menor a mayor es  [703, 717, 1099, 1291, 1407, 3495, 4449, 4497, 4935, 4989, 5481, 5647, 5717, 6763, 6795, 6891, 6935, 7007, 7879, 8115, 8557, 9001, 9225, 9363, 9563, 9857]\n",
            "la lista mayor a menor es  [8358, 5942, 5608, 4972, 4878, 4240, 4030, 3882, 3466, 3420, 3088, 2708, 1752, 1726]\n"
          ],
          "name": "stdout"
        }
      ]
    },
    {
      "cell_type": "markdown",
      "metadata": {
        "id": "iE045qKKIbdf"
      },
      "source": [
        "**Diccionario**"
      ]
    },
    {
      "cell_type": "code",
      "metadata": {
        "colab": {
          "base_uri": "https://localhost:8080/"
        },
        "id": "hMa8jR0oxjGe",
        "outputId": "e980ce58-b046-4d5f-a0e7-3720c03da45d"
      },
      "source": [
        "#Crear un diccionario de 6 personas que conozcas con su primer nombre y su edad.\n",
        "dic1 = {'Sebastian': 20, 'Ana':20,'Alberto':21,'Grecia':19,'Dafne':19,'Emilio':21}\n",
        "print(dic1)"
      ],
      "execution_count": 17,
      "outputs": [
        {
          "output_type": "stream",
          "text": [
            "{'Sebastian': 20, 'Ana': 20, 'Alberto': 21, 'Grecia': 19, 'Dafne': 19, 'Emilio': 21}\n"
          ],
          "name": "stdout"
        }
      ]
    },
    {
      "cell_type": "code",
      "metadata": {
        "colab": {
          "base_uri": "https://localhost:8080/"
        },
        "id": "0PT00lxG8NdL",
        "outputId": "98aaeddc-a0db-4c5b-ab6f-b9439fc0dd1c"
      },
      "source": [
        "#Crear una lista con los valores de la edad y reacomodar la lista de menor a mayor valor.\n",
        "dic1 = {'Sebastian': 20, 'Ana':20,'Alberto':21,'Grecia':19,'Dafne':19,'Emilio':21}\n",
        "dic1 = sorted(dic1.values())\n",
        "print(dic1)"
      ],
      "execution_count": 13,
      "outputs": [
        {
          "output_type": "stream",
          "text": [
            "[19, 19, 20, 20, 21, 21]\n"
          ],
          "name": "stdout"
        }
      ]
    },
    {
      "cell_type": "code",
      "metadata": {
        "colab": {
          "base_uri": "https://localhost:8080/"
        },
        "id": "WmYUL_Mc9YbC",
        "outputId": "5f444b30-5d95-4484-b1b0-552563043c75"
      },
      "source": [
        "#Usando el diccionario y un loop, imprimir solo los nombres\n",
        "dic1 = {'Sebastian': 20, 'Ana':20,'Alberto':21,'Grecia':19,'Dafne':19,'Emilio':21}\n",
        "for i in dic1:\n",
        "  print(i)\n"
      ],
      "execution_count": 18,
      "outputs": [
        {
          "output_type": "stream",
          "text": [
            "Sebastian\n",
            "Ana\n",
            "Alberto\n",
            "Grecia\n",
            "Dafne\n",
            "Emilio\n"
          ],
          "name": "stdout"
        }
      ]
    },
    {
      "cell_type": "code",
      "metadata": {
        "colab": {
          "base_uri": "https://localhost:8080/"
        },
        "id": "E_Ioku5p7PuU",
        "outputId": "fc2874b9-bc9f-4345-a7a1-9245c707b61b"
      },
      "source": [
        "#Añadir dos personas nuevas a tu diccionario, incluyendo edad\n",
        "dic1 = {'Sebastian': 20, 'Ana':20}\n",
        "dic1['Alberto']= '21'\n",
        "dic1['Diana']='20'\n",
        "print(dic1)"
      ],
      "execution_count": 4,
      "outputs": [
        {
          "output_type": "stream",
          "text": [
            "{'Sebastian': 20, 'Ana': 20, 'Alberto': '21', 'Diana': '20'}\n"
          ],
          "name": "stdout"
        }
      ]
    },
    {
      "cell_type": "markdown",
      "metadata": {
        "id": "WtlBgAc0IghS"
      },
      "source": [
        "**Sets**"
      ]
    },
    {
      "cell_type": "code",
      "metadata": {
        "colab": {
          "base_uri": "https://localhost:8080/"
        },
        "id": "PHJjdTWkEacn",
        "outputId": "701b5511-0d2a-4598-b1c4-fe1e832163b9"
      },
      "source": [
        "#Crea un set con 100 numeros aleatorios enteros del 1 al 25\n",
        "import random\n",
        "set2 = set (range(1,100))\n",
        "a = 0\n",
        "while a<1:\n",
        "  b = str(random.randint(1,25))\n",
        "  set2.add(b)\n",
        "  a=a+1\n",
        "set2\n",
        "\n",
        "\n"
      ],
      "execution_count": 92,
      "outputs": [
        {
          "output_type": "execute_result",
          "data": {
            "text/plain": [
              "{1,\n",
              " 10,\n",
              " 11,\n",
              " 12,\n",
              " 13,\n",
              " 14,\n",
              " 15,\n",
              " 16,\n",
              " 17,\n",
              " 18,\n",
              " 19,\n",
              " 2,\n",
              " 20,\n",
              " 21,\n",
              " 22,\n",
              " 23,\n",
              " 24,\n",
              " 25,\n",
              " 26,\n",
              " 27,\n",
              " 28,\n",
              " 29,\n",
              " 3,\n",
              " 30,\n",
              " 31,\n",
              " 32,\n",
              " 33,\n",
              " 34,\n",
              " 35,\n",
              " 36,\n",
              " 37,\n",
              " 38,\n",
              " 39,\n",
              " 4,\n",
              " 40,\n",
              " 41,\n",
              " 42,\n",
              " 43,\n",
              " 44,\n",
              " 45,\n",
              " 46,\n",
              " 47,\n",
              " 48,\n",
              " 49,\n",
              " 5,\n",
              " 50,\n",
              " 51,\n",
              " 52,\n",
              " 53,\n",
              " 54,\n",
              " 55,\n",
              " 56,\n",
              " 57,\n",
              " 58,\n",
              " 59,\n",
              " 6,\n",
              " 60,\n",
              " 61,\n",
              " 62,\n",
              " 63,\n",
              " 64,\n",
              " 65,\n",
              " 66,\n",
              " 67,\n",
              " 68,\n",
              " 69,\n",
              " 7,\n",
              " 70,\n",
              " 71,\n",
              " 72,\n",
              " 73,\n",
              " 74,\n",
              " 75,\n",
              " 76,\n",
              " 77,\n",
              " 78,\n",
              " 79,\n",
              " 8,\n",
              " 80,\n",
              " 81,\n",
              " 82,\n",
              " 83,\n",
              " 84,\n",
              " 85,\n",
              " 86,\n",
              " 87,\n",
              " 88,\n",
              " 89,\n",
              " 9,\n",
              " '9',\n",
              " 90,\n",
              " 91,\n",
              " 92,\n",
              " 93,\n",
              " 94,\n",
              " 95,\n",
              " 96,\n",
              " 97,\n",
              " 98,\n",
              " 99}"
            ]
          },
          "metadata": {},
          "execution_count": 92
        }
      ]
    },
    {
      "cell_type": "code",
      "metadata": {
        "colab": {
          "base_uri": "https://localhost:8080/"
        },
        "id": "QMgj_-xKPXAA",
        "outputId": "17c16cfc-5b34-4f2e-d93f-3ac5e8d78f99"
      },
      "source": [
        "#Comprueba la longitud de tu set.\n",
        "import random\n",
        "set2 = set (range(1,100))\n",
        "a = 0\n",
        "while a<1:\n",
        "  b = str(random.randint(1,25))\n",
        "  set2.add(b)\n",
        "  a=a+1\n",
        "set2\n",
        "len(set2)"
      ],
      "execution_count": 91,
      "outputs": [
        {
          "output_type": "execute_result",
          "data": {
            "text/plain": [
              "100"
            ]
          },
          "metadata": {},
          "execution_count": 91
        }
      ]
    },
    {
      "cell_type": "code",
      "metadata": {
        "colab": {
          "base_uri": "https://localhost:8080/",
          "height": 248
        },
        "id": "Z6uqMYvaP3P8",
        "outputId": "03e1b50b-8079-44f2-f5e2-f3cd011955db"
      },
      "source": [
        "#Crea una lista de 5 numeros aleatorios del 1 al 10 y comprueba si cada valor aparece en el set inicial\n",
        "import random\n",
        "set2 = set (range(1,100))\n",
        "a = 0\n",
        "while a<1:\n",
        "  b = str(random.randint(1,25))\n",
        "  set2.add(b)\n",
        "  a=a+1\n",
        "set2\n",
        "set3 = set (range(1,5))\n",
        "a = 0\n",
        "while a<1:\n",
        "  c = str(random.randint(1,10))\n",
        "  set3.add(c)\n",
        "  a=a+1\n",
        "print(set3)\n",
        "rep=[]\n",
        "for i in range(5):\n",
        "    if (set3[i] in set2)==True:\n",
        "        rep.append(set3[i])\n",
        "\n",
        "\n",
        "\n",
        "\n",
        "\n"
      ],
      "execution_count": 118,
      "outputs": [
        {
          "output_type": "stream",
          "text": [
            "{1, 2, 3, 4, '6'}\n"
          ],
          "name": "stdout"
        },
        {
          "output_type": "error",
          "ename": "TypeError",
          "evalue": "ignored",
          "traceback": [
            "\u001b[0;31m---------------------------------------------------------------------------\u001b[0m",
            "\u001b[0;31mTypeError\u001b[0m                                 Traceback (most recent call last)",
            "\u001b[0;32m<ipython-input-118-927dd6f0280d>\u001b[0m in \u001b[0;36m<module>\u001b[0;34m()\u001b[0m\n\u001b[1;32m     17\u001b[0m \u001b[0mrep\u001b[0m\u001b[0;34m=\u001b[0m\u001b[0;34m[\u001b[0m\u001b[0;34m]\u001b[0m\u001b[0;34m\u001b[0m\u001b[0;34m\u001b[0m\u001b[0m\n\u001b[1;32m     18\u001b[0m \u001b[0;32mfor\u001b[0m \u001b[0mi\u001b[0m \u001b[0;32min\u001b[0m \u001b[0mrange\u001b[0m\u001b[0;34m(\u001b[0m\u001b[0;36m5\u001b[0m\u001b[0;34m)\u001b[0m\u001b[0;34m:\u001b[0m\u001b[0;34m\u001b[0m\u001b[0;34m\u001b[0m\u001b[0m\n\u001b[0;32m---> 19\u001b[0;31m     \u001b[0;32mif\u001b[0m \u001b[0;34m(\u001b[0m\u001b[0mset3\u001b[0m\u001b[0;34m[\u001b[0m\u001b[0mi\u001b[0m\u001b[0;34m]\u001b[0m \u001b[0;32min\u001b[0m \u001b[0mset2\u001b[0m\u001b[0;34m)\u001b[0m\u001b[0;34m==\u001b[0m\u001b[0;32mTrue\u001b[0m\u001b[0;34m:\u001b[0m\u001b[0;34m\u001b[0m\u001b[0;34m\u001b[0m\u001b[0m\n\u001b[0m\u001b[1;32m     20\u001b[0m         \u001b[0mrep\u001b[0m\u001b[0;34m.\u001b[0m\u001b[0mappend\u001b[0m\u001b[0;34m(\u001b[0m\u001b[0mset3\u001b[0m\u001b[0;34m[\u001b[0m\u001b[0mi\u001b[0m\u001b[0;34m]\u001b[0m\u001b[0;34m)\u001b[0m\u001b[0;34m\u001b[0m\u001b[0;34m\u001b[0m\u001b[0m\n\u001b[1;32m     21\u001b[0m \u001b[0;34m\u001b[0m\u001b[0m\n",
            "\u001b[0;31mTypeError\u001b[0m: 'set' object is not subscriptable"
          ]
        }
      ]
    }
  ]
}